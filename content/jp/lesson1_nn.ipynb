{
 "cells": [
  {
   "cell_type": "markdown",
   "id": "8e1bb341",
   "metadata": {},
   "source": [
    "# 1. Neural Network とは"
   ]
  },
  {
   "cell_type": "markdown",
   "id": "da962084",
   "metadata": {},
   "source": [
    "## 1.1. はじめに\n",
    "\n",
    "ChatGPT や画像生成などカジュアルにはAI とも呼ばれるこれらは,正式には**機械学習**(Machine Learning, ML)と呼ばれる技術です.\n",
    "機械学習と聞くと比較的最近耳にするようになった印象もあるかもしれませんが, 実際には結構古い技術です.\n",
    "実はみなさんも大学生の時分に触れていて, **fitting**という呼び方で馴染みがあるんじゃないでしょうか.\n",
    "\n",
    "近年ではありとあらゆるところに機械学習が使われ,技術としても多種多様に見えますが, 根幹の技術は全てただのfittingです.\n",
    "機械学習の話はイメージしにくいのが難点ですが, 単純なfittingで置き換えて考えるとかなり理解しやすくなります.\n",
    "どんな機械学習の話もfittingとして実感できるようにする, というのがこのチュートリアルの目標です.\n",
    "\n",
    "特にこの章ではfitting として解釈することに重きを置くため, 具体的にfitting を行う最適化のコードは一切実装しません.\n",
    "`pytorch` を使って実際に最適化を行うsample code をお求めの方は<del>[2.Optimization]()</del> (work in progress) を参照してください."
   ]
  },
  {
   "cell_type": "markdown",
   "id": "d58fe926",
   "metadata": {},
   "source": [
    "## 1.2. Fitting の概観\n",
    "\n",
    "Fitting の詳細な技術はここでは無視して, 用語の定義と大まかな流れを確認します."
   ]
  },
  {
   "cell_type": "markdown",
   "id": "4e0e7802",
   "metadata": {},
   "source": [
    "### 1.2.1 Fitting の目的\n",
    "\n",
    "入力の集合$X$ から出力の集合$Y$ への写像を解析的な形で得ることが目的です.\n",
    "ここで「解析的」という表現は「数式で表現できて,やろうと思えば局所的に微積分が可能」という意味で雑に使っています.\n",
    "解析的な写像と解析的ではない写像の例を挙げます.\n",
    "\n",
    "> **_NOTE_** <details close><summary>解析的な写像と解析的ではない写像の例</summary>\n",
    "> \n",
    "> - 解析的な写像\n",
    ">   - いわゆる普通の関数たち\n",
    ">     - $f(x) = x^2 + 3x + 1$\n",
    ">     - $g(x) = \\sin(x)$\n",
    ">     - $h(x) = (f \\circ g)(x)$\n",
    "> - 解析的でない写像\n",
    ">     - 逐次計算で出るようなやつやら,手順踏めば解析的な形で究極的には出せそうだけどアルゴリズムの内部が見えないせいでわからない(シミュレーションとか)\n",
    ">     - sort やらはそうだけど,混乱を避けるためにもなるべくフェアに連続写像で例示したい\n",
    "> \n",
    "> </details>"
   ]
  },
  {
   "cell_type": "markdown",
   "id": "981e2df8",
   "metadata": {},
   "source": [
    "### 1.2.2 用語の定義\n",
    "\n",
    "- 入力集合 $X$\n",
    "- 出力集合 $Y$\n",
    "- 目的関数 $f: X \\to Y$\n",
    "  - Fitting によって再現しようとしている, $X$と$Y$の間の写像\n",
    "  - Fitting は一般に目的関数の具体的な形や表現が分からない状態で行います.\n",
    "  - もっというと, 目的関数は解析的であるか否かもわからない状態でも行いえます.\n",
    "- Fitting 関数 $\\hat{f}: \\Theta \\to (X \\to Y)$\n",
    "  - パラメータとして具体的な値を与えると, 目的関数を近似する関数を返す写像.\n",
    "  - パラメータ集合$\\Theta$\n",
    "    - 多くの場合 $\\Theta \\sub \\mathbb{R}^n$ です.\n",
    "  > **_NOTE_** <details close><summary> 例: 線形近似の場合</summary>\n",
    "  > - 入力集合 $X = \\mathbb{R}$,\n",
    "  > - 入力集合 $Y = \\mathbb{R}$\n",
    "  > - パラメータ集合 $\\Theta = \\mathbb{R}^2$\n",
    "  > - Fitting関数\n",
    "  >   - $\\hat{f}(x \\mid {\\theta}) = \\theta_1 x + \\theta_2$\n",
    "  > </details>\n",
    "\n",
    "- データセット $D = \\{(x_i, y_i)\\}_{i=1}^N ~ (x_i \\in X, y_i \\in Y)$\n",
    "  - $X$の要素$x_i$と, 目的関数$f$ によって関連づけられた$Y$の要素$y_i = f(x_i)$の組の集合\n",
    "    - 厳密には$y_i = f(x_i) + \\epsilon_i$ の形で, 誤差$\\epsilon_i$も考慮した形で考えることが多いです.\n",
    "  - $N$ はデータセット内のサンプルの数"
   ]
  },
  {
   "cell_type": "markdown",
   "id": "0b8403b2",
   "metadata": {},
   "source": [
    "### 1.2.3 Fitting の流れ\n",
    "\n",
    "目的関数がおおよそ一次関数の場合を例に、一般的なfitting の流れをおさらいします。\n",
    "\n",
    "0. Given: $D = \\{(x_0, y_0), (x_1, y_1), \\dots, (x_n, y_n)\\}$\n",
    "\n",
    "> <details close><summary>Table</summary>\n",
    "> \n",
    "> |  i |          x |          y |\n",
    "> |---:|-----------:|-----------:|\n",
    "> |  0 | -1         | -3.46875   |\n",
    "> |  1 | -0.894737  | -3.3587    |\n",
    "> |  2 | -0.789474  | -3.18168   |\n",
    "> |  3 | -0.684211  | -2.80816   |\n",
    "> |  4 | -0.578947  | -2.57535   |\n",
    "> |  5 | -0.473684  | -2.59838   |\n",
    "> |  6 | -0.368421  | -2.034     |\n",
    "> |  7 | -0.263158  | -2.12891   |\n",
    "> |  8 | -0.157895  | -1.76289   |\n",
    "> |  9 | -0.0526316 | -1.55701   |\n",
    "> | 10 |  0.0526316 | -1.30737   |\n",
    "> | 11 |  0.157895  | -1.14899   |\n",
    "> | 12 |  0.263158  | -0.999317  |\n",
    "> | 13 |  0.368421  | -0.695888  |\n",
    "> | 14 |  0.473684  | -0.606254  |\n",
    "> | 15 |  0.578947  | -0.402179  |\n",
    "> | 16 |  0.684211  | -0.0366087 |\n",
    "> | 17 |  0.789474  |  0.0456709 |\n",
    "> | 18 |  0.894737  |  0.303446  |\n",
    "> | 19 |  1         |  0.531963  |\n",
    "> \n",
    "> </details>\n",
    "> \n",
    "> <details close><summary>Plot</summary>\n",
    "> \n",
    "> ![dataset](../assets/1_nn/fig/lin_dataset.png)\n",
    "> \n",
    "> </details>\n",
    "\n",
    "1. Fitting 関数の選定\n",
    "\n",
    "   データセットを元に目的関数の形を考慮してfitting 関数を選びます.\n",
    "   今回の場合はデータセットの分布がおおよそ線形なので, 目的関数が一次関数であると仮定して一次関数をfitting 関数としてfitting します.\n",
    "   $$ \\hat{f}(x \\mid \\theta) = \\theta_1 x + \\theta_2 $$\n",
    "\n",
    "2. Fitting 関数のパラメータの最適化\n",
    "\n",
    "   ここがfitting の肝ですが, 具体的にどうやって最適なパラメータを算出するかは今は考えないでおきましょう.\n",
    "   ここでは手動でなんとなく良いものを選びます."
   ]
  },
  {
   "cell_type": "code",
   "execution_count": null,
   "id": "3d1ee7d2",
   "metadata": {},
   "outputs": [
    {
     "data": {
      "application/vnd.jupyter.widget-view+json": {
       "model_id": "7ee7de93126547fd860074f0a25bbee6",
       "version_major": 2,
       "version_minor": 0
      },
      "text/plain": [
       "interactive(children=(FloatSlider(value=1.0, description='theta1', max=5.0, min=-5.0), FloatSlider(value=-2.0,…"
      ]
     },
     "metadata": {},
     "output_type": "display_data"
    }
   ],
   "source": [
    "import numpy as np\n",
    "import matplotlib.pyplot as plt\n",
    "from ipywidgets import interact\n",
    "\n",
    "dataset = np.array([\n",
    "    [-1.0, -3.46875059],\n",
    "    [-0.89473684, -3.35870235],\n",
    "    [-0.78947368, -3.18168343],\n",
    "    [-0.68421053, -2.80815538],\n",
    "    [-0.57894737, -2.57535459],\n",
    "    [-0.47368421, -2.5983788],\n",
    "    [-0.36842105, -2.03399938],\n",
    "    [-0.26315789, -2.12890873],\n",
    "    [-0.15789474, -1.76288595],\n",
    "    [-0.05263158, -1.55701026],\n",
    "    [0.05263158, -1.30737102],\n",
    "    [0.15789474, -1.14899177],\n",
    "    [0.26315789, -0.99931722],\n",
    "    [0.36842105, -0.69588818],\n",
    "    [0.47368421, -0.60625409],\n",
    "    [0.57894737, -0.40217878],\n",
    "    [0.68421053, -0.03660866],\n",
    "    [0.78947368, 0.04567089],\n",
    "    [0.89473684, 0.30344603],\n",
    "    [1.0, 0.53196308],\n",
    "])\n",
    "x = dataset[:, 0]\n",
    "y = dataset[:, 1]\n",
    "\n",
    "def f_hat(x, theta1, theta2):\n",
    "    return theta1 * x + theta2\n",
    "def plot(theta1=1., theta2=-2.):\n",
    "    _ = plt.scatter(x, y)\n",
    "    _ = plt.plot(x, f_hat(x, theta1, theta2), color='red', linestyle='-')\n",
    "    _ = plt.xlim(-1.1, 1.1)\n",
    "    _ = plt.ylim(-4, 1)\n",
    "    _ = plt.xlabel('x')\n",
    "    _ = plt.ylabel('y')\n",
    "    _ = plt.title(f'Linear fitting function: θ1={theta1:.2f}, θ2={theta2:.2f}')\n",
    "    _ = plt.grid()\n",
    "    _ = plt.show()\n",
    "\n",
    "_ = interact(plot, theta1=(-5.0, 5.0, 0.1), theta2=(-5.0, 5.0, 0.1))"
   ]
  },
  {
   "cell_type": "markdown",
   "id": "862ef12d",
   "metadata": {},
   "source": [
    "## 1.3. Neural Network\n",
    "\n",
    "2015年頃からの機械学習ブームの発端となった物が**Neural Network** (NN)です。\n",
    "NN はfitting 関数の一種で、単純な関数から複雑な関数まで多様な目的関数を従来のものより遥かにうまくfitting できるという点で革新的でした。\n",
    "\n",
    "NN の確立によって, データセットさえ用意できればあらゆる写像を解析的な形で得られるようになりました.\n",
    "\n",
    "これによりあらゆる機械学習の問題は,\n",
    "- どうやってデータセットを確保するか?\n",
    "- どんな関係性を目的関数として課題設定するか?\n",
    "\n",
    "の2点に集約されることになりました."
   ]
  },
  {
   "cell_type": "markdown",
   "id": "b3b39acc",
   "metadata": {},
   "source": [
    "### 1.3.1 Neural Network の中身\n",
    "\n",
    "ここではNN がどんなfitting 関数なのか具体的に見ていきましょう.\n",
    "\n",
    "NN の大きな特徴は単純な関数を切り貼りして複雑な関数を表現することです. 具体的に見ていきましょう."
   ]
  },
  {
   "cell_type": "markdown",
   "id": "b3013ee7",
   "metadata": {},
   "source": [
    "#### 1.3.1.1 基本となる単純な関数 (Neuron, ニューロン)\n",
    "\n",
    "NN を構成する基本の関数は以下で定義されます. ただこれを見るより実際にグラフを書いた方が早いのでそちらを見ていきましょう.\n",
    "\n",
    "$f(x) = \\begin{cases}\n",
    "  0 & (x < 0) \\\\\n",
    "  x & (x \\geq 0)\n",
    "\\end{cases}$"
   ]
  },
  {
   "cell_type": "code",
   "execution_count": 7,
   "id": "7f3d1b33",
   "metadata": {},
   "outputs": [
    {
     "data": {
      "image/png": "[encoded data removed]",
      "text/plain": [
       "<Figure size 400x400 with 1 Axes>"
      ]
     },
     "metadata": {},
     "output_type": "display_data"
    }
   ],
   "source": [
    "import torch\n",
    "import matplotlib.pyplot as plt\n",
    "\n",
    "def base(x):\n",
    "    return torch.maximum(x, torch.tensor(0.0))\n",
    "\n",
    "x = torch.linspace(-5, 5, 100)\n",
    "y = base(x)\n",
    "\n",
    "fig = plt.figure(figsize=(4, 4))\n",
    "ax = fig.add_subplot(111)\n",
    "_ = ax.plot(x, y)\n",
    "_ = ax.set_title(\"Base Function\")\n",
    "_ = ax.set_xlabel(\"x\")\n",
    "_ = ax.set_ylabel(\"y\")\n",
    "_ = ax.set_ylim(-5, 5)\n",
    "_ = ax.grid()"
   ]
  },
  {
   "cell_type": "markdown",
   "id": "d32e1563",
   "metadata": {},
   "source": [
    "このままだとfitting しようにも動かせるパラメータがないので, このグラフを並行移動と縦横の拡大縮小ができるようにパラメータを加え, fitting 関数として定義します.\n",
    "\n",
    "$\\hat{f}(x \\mid a_1, a_2, b_1, b_2) = a_1 f(a_2(x - b_1)) + b_2$"
   ]
  },
  {
   "cell_type": "code",
   "execution_count": 90,
   "id": "8e53a502",
   "metadata": {},
   "outputs": [
    {
     "data": {
      "application/vnd.jupyter.widget-view+json": {
       "model_id": "f9b2973290954e62a77c62b27302dbb8",
       "version_major": 2,
       "version_minor": 0
      },
      "text/plain": [
       "interactive(children=(FloatSlider(value=1.0, description='a1', max=5.0, min=-5.0), FloatSlider(value=1.0, desc…"
      ]
     },
     "metadata": {},
     "output_type": "display_data"
    }
   ],
   "source": [
    "from ipywidgets import interact\n",
    "import torch\n",
    "import matplotlib.pyplot as plt\n",
    "\n",
    "\n",
    "def f(x):\n",
    "    return torch.maximum(x, torch.tensor(0.0))\n",
    "\n",
    "def f_hat(x, a1, a2, b1, b2):\n",
    "    return a2 * f(a1*(x - b1)) + b2\n",
    "\n",
    "def plot(a1=1., a2=1., b1=0., b2=0.):\n",
    "    x = torch.linspace(-5, 5, 100)\n",
    "    fig = plt.figure(figsize=(4, 4))\n",
    "    ax = fig.add_subplot(111)\n",
    "    _ = ax.plot(x, f_hat(x, a1, a2, b1, b2), color='red', linestyle='-')\n",
    "    _ = ax.set_ylim(-5, 5)\n",
    "    _ = ax.set_xlabel('x')\n",
    "    _ = ax.set_ylabel('y')\n",
    "    _ = ax.set_title(f'Base fitting function: a1={a1:.2f}, a2={a2:.2f}, b1={b1:.2f}, b2={b2:.2f}')\n",
    "    _ = ax.grid()\n",
    "\n",
    "_ = interact(plot, a1=(-5.0, 5.0, 0.1), a2=(-5.0, 5.0, 0.1), b1=(-5.0, 5.0, 0.1), b2=(-5.0, 5.0, 0.1))"
   ]
  },
  {
   "cell_type": "markdown",
   "id": "fa00fc65",
   "metadata": {},
   "source": [
    "これで最小単位の部品が揃いました. 機械学習の文脈ではこの部品を**Neuron** (ニューロン)と呼びます. この命名の由来は後の章で説明しますので, 今は単にこの部品の名前として受け入れてください.\n",
    "\n",
    "部品が整ったとはいえこんな単純な形の関数がどう役に立つのか全くピンとこないと思います.\n",
    "上でも述べたようにNN はこの部品を「切り貼り」することで成立します. 以下ではこの「切り貼り」をどう行うのかを見ていきましょう.\n",
    "\n",
    "> **_NOTE_** <details close><summary>Neuron という語の定義について</summary>\n",
    ">\n",
    "> このfitting関数をneuron として命名することの是非は大いに議論の余地あり.\n",
    "> 関数に対する表現や操作と, 本来のニューロンそのもの同士の相互作用や機能で用語が重複しつつ実態に微妙に乖離がありように思えるので, もう少しうまく定式化したいところ.\n",
    ">\n",
    "> </details>"
   ]
  },
  {
   "cell_type": "markdown",
   "id": "f832f7a4",
   "metadata": {},
   "source": [
    "#### 1.3.1.2 ニューロンの足し合わせ\n",
    "\n",
    "関数を貼り合わせる一番シンプルな方法は足し算です.\n",
    "\n",
    "$$\n",
    "\\hat{f}(x \\mid a_1, a_2, b_1, b_2) = \\sum_{i=1}^n a_2^{(i)}f\\left( a_1^{(i)}x + b_1^{(i)} \\right) + b_2^{(i)}\n",
    "$$\n",
    "\n",
    "以下ではシンプルに, ニューロンを2つ足し合わせた場合に関数系がどのようになるかを観てみましょう."
   ]
  },
  {
   "cell_type": "code",
   "execution_count": 91,
   "id": "99a542cf",
   "metadata": {},
   "outputs": [
    {
     "data": {
      "application/vnd.jupyter.widget-view+json": {
       "model_id": "572392da6b514dc7a9447ecccdb7a491",
       "version_major": 2,
       "version_minor": 0
      },
      "text/plain": [
       "HBox(children=(VBox(children=(FloatSlider(value=0.5, description='a11', max=5.0, min=-5.0, readout_format='.1f…"
      ]
     },
     "metadata": {},
     "output_type": "display_data"
    },
    {
     "data": {
      "application/vnd.jupyter.widget-view+json": {
       "model_id": "4aeebafa4aee4d3681201eb92f05ad12",
       "version_major": 2,
       "version_minor": 0
      },
      "text/plain": [
       "Output()"
      ]
     },
     "metadata": {},
     "output_type": "display_data"
    }
   ],
   "source": [
    "from ipywidgets import FloatSlider, VBox, HBox, interactive_output\n",
    "\n",
    "a11 = FloatSlider(value=0.5, min=-5.0, max=5.0, step=0.1, description=\"a11\", readout_format=\".1f\")\n",
    "a12 = FloatSlider(value=1., min=-5.0, max=5.0, step=0.1, description=\"a12\", readout_format=\".1f\")\n",
    "b11 = FloatSlider(value=0., min=-5.0, max=5.0, step=0.1, description=\"b11\", readout_format=\".1f\")\n",
    "b12 = FloatSlider(value=0., min=-5.0, max=5.0, step=0.1, description=\"b12\", readout_format=\".1f\")\n",
    "\n",
    "a21 = FloatSlider(value=0.5, min=-5.0, max=5.0, step=0.1, description=\"a21\", readout_format=\".1f\")\n",
    "a22 = FloatSlider(value=1., min=-5.0, max=5.0, step=0.1, description=\"a22\", readout_format=\".1f\")\n",
    "b21 = FloatSlider(value=2.5, min=-5.0, max=5.0, step=0.1, description=\"b21\", readout_format=\".1f\")\n",
    "b22 = FloatSlider(value=0., min=-5.0, max=5.0, step=0.1, description=\"b22\", readout_format=\".1f\")\n",
    "\n",
    "f1 = VBox([a11, a12, b11, b12])\n",
    "f2 = VBox([a21, a22, b21, b22])\n",
    "ui = HBox([f1, f2])\n",
    "\n",
    "def plot(a11, a12, b11, b12,\n",
    "         a21, a22, b21, b22):\n",
    "    x = torch.linspace(-5, 5, 100)\n",
    "    y1 = f_hat(x, a11, a12, b11, b12)\n",
    "    y2 = f_hat(x, a21, a22, b21, b22)\n",
    "    #\n",
    "    ysum = y1 + y2\n",
    "    fig = plt.figure(figsize=(6.5, 6.5))\n",
    "    #\n",
    "    ax1 = fig.add_subplot(221)\n",
    "    _ = ax1.plot(x, y1, color='tab:blue', linestyle='-')\n",
    "    _ = ax1.set_ylim(-5, 5)\n",
    "    _ = ax1.set_xlabel('x')\n",
    "    _ = ax1.set_ylabel('y')\n",
    "    _ = ax1.set_title(f'First base function')\n",
    "    _ = ax1.grid()\n",
    "    #\n",
    "    ax2 = fig.add_subplot(222)\n",
    "    _ = ax2.plot(x, y2, color='tab:orange', linestyle='-')\n",
    "    _ = ax2.set_ylim(-5, 5)\n",
    "    _ = ax2.set_xlabel('x')\n",
    "    _ = ax2.set_ylabel('y')\n",
    "    _ = ax2.set_title(f'Second base function')\n",
    "    _ = ax2.grid()\n",
    "    #\n",
    "    ax3 = fig.add_subplot(223)\n",
    "    _ = ax3.plot(x, ysum, color='tab:green', linestyle='-')\n",
    "    _ = ax3.set_ylim(-5, 5)\n",
    "    _ = ax3.set_xlabel('x')\n",
    "    _ = ax3.set_ylabel('y')\n",
    "    _ = ax3.set_title(f'Sum of two base functions')\n",
    "    _ = ax3.grid()\n",
    "\n",
    "out = interactive_output(plot, {'a11': a11, 'a12': a12, 'b11': b11, 'b12': b12,\n",
    "                               'a21': a21, 'a22': a22, 'b21': b21, 'b22': b22})\n",
    "display(ui, out)"
   ]
  },
  {
   "cell_type": "markdown",
   "id": "4d590d38",
   "metadata": {},
   "source": [
    "ご覧のように, ニューロンを足し合わせると折れ線を継ぎはぎしたような形になります.\n",
    "また直観通り, ニューロンの数を増やすことはそのまま折れ線の折れ目を増やすことに対応しています.\n",
    "そのため原則として, 足し合わせるニューロンの数を増やすことでより複雑な関数を表現できるようになります."
   ]
  },
  {
   "cell_type": "markdown",
   "id": "0b30a832",
   "metadata": {},
   "source": [
    "#### 1.3.1.3 ニューロンの足し合わせによるfitting\n",
    "\n",
    "ここでは具体的なデータセットを用意して, ニューロンの足し合わせによるfitting を実際に見てみましょう.\n",
    "\n",
    "データセットとしては以下を用意しました."
   ]
  },
  {
   "cell_type": "code",
   "execution_count": 3,
   "id": "51827acf",
   "metadata": {},
   "outputs": [
    {
     "data": {
      "image/png": "[encoded data removed]",
      "text/plain": [
       "<Figure size 400x400 with 1 Axes>"
      ]
     },
     "metadata": {},
     "output_type": "display_data"
    }
   ],
   "source": [
    "import torch\n",
    "import matplotlib.pyplot as plt\n",
    "\n",
    "dataset = torch.tensor([\n",
    "        [-5.0000, 19.9753],\n",
    "        [-4.7959, 16.6626],\n",
    "        [-4.5918, 13.3273],\n",
    "        [-4.3878,  9.8200],\n",
    "        [-4.1837,  7.4106],\n",
    "        [-3.9796,  5.8454],\n",
    "        [-3.7755,  4.8899],\n",
    "        [-3.5714,  4.5567],\n",
    "        [-3.3673,  4.8462],\n",
    "        [-3.1633,  6.7783],\n",
    "        [-2.9592,  7.6026],\n",
    "        [-2.7551,  8.1018],\n",
    "        [-2.5510,  7.3079],\n",
    "        [-2.3469,  7.3507],\n",
    "        [-2.1429,  7.2832],\n",
    "        [-1.9388,  5.1307],\n",
    "        [-1.7347,  3.5130],\n",
    "        [-1.5306,  1.0557],\n",
    "        [-1.3265, -1.5252],\n",
    "        [-1.1224, -3.5944],\n",
    "        [-0.9184, -3.8076],\n",
    "        [-0.7143, -4.9773],\n",
    "        [-0.5102, -3.7722],\n",
    "        [-0.3061, -2.6819],\n",
    "        [-0.1020, -0.7651],\n",
    "        [ 0.1020,  0.7249],\n",
    "        [ 0.3061,  3.1635],\n",
    "        [ 0.5102,  4.3074],\n",
    "        [ 0.7143,  5.0760],\n",
    "        [ 0.9184,  5.1199],\n",
    "        [ 1.1224,  6.0594],\n",
    "        [ 1.3265,  4.5782],\n",
    "        [ 1.5306,  3.2450],\n",
    "        [ 1.7347,  1.2015],\n",
    "        [ 1.9388,  1.2859],\n",
    "        [ 2.1429, -0.4761],\n",
    "        [ 2.3469, -0.1454],\n",
    "        [ 2.5510,  1.9991],\n",
    "        [ 2.7551,  3.6881],\n",
    "        [ 2.9592,  7.4508],\n",
    "        [ 3.1633,  9.9941],\n",
    "        [ 3.3673, 13.3236],\n",
    "        [ 3.5714, 15.0379],\n",
    "        [ 3.7755, 18.2563],\n",
    "        [ 3.9796, 19.4761],\n",
    "        [ 4.1837, 20.6810],\n",
    "        [ 4.3878, 20.2311],\n",
    "        [ 4.5918, 20.0776],\n",
    "        [ 4.7959, 20.8873],\n",
    "        [ 5.0000, 19.7803]])\n",
    "\n",
    "x = dataset[:, 0]\n",
    "y = dataset[:, 1]\n",
    "\n",
    "fig = plt.figure(figsize=(4, 4))\n",
    "ax = fig.add_subplot(111)\n",
    "_ = ax.scatter(x, y)\n",
    "_ = ax.set_title(\"Dataset\")\n",
    "_ = ax.set_xlabel(\"x\")\n",
    "_ = ax.set_ylabel(\"y\")\n",
    "_ = ax.grid()"
   ]
  },
  {
   "cell_type": "markdown",
   "id": "6b583f81",
   "metadata": {},
   "source": [
    "> **_NOTE_** <details close><summary>目的関数の正解</summary>\n",
    "> $y = 5 \\sin(2x) + 0.5x + 0.8x^2 + \\epsilon, ~ \\epsilon \\sim \\mathrm{N}(0, 0.5)$\n",
    "> </details>"
   ]
  },
  {
   "cell_type": "markdown",
   "id": "825a0ba5",
   "metadata": {},
   "source": [
    "実際のfitting を行うコードは省略して, ここではfitting の結果だけを示します.\n",
    "ここでは, ニューロンを5つ足し合わせてfitting を行いました."
   ]
  },
  {
   "cell_type": "code",
   "execution_count": 84,
   "id": "ada2e022",
   "metadata": {},
   "outputs": [
    {
     "data": {
      "image/png": "[encoded data removed]",
      "text/plain": [
       "<Figure size 400x400 with 1 Axes>"
      ]
     },
     "metadata": {},
     "output_type": "display_data"
    }
   ],
   "source": [
    "n_neuron = 5\n",
    "\n",
    "def f(x):\n",
    "    return torch.maximum(x, torch.tensor(0.0))\n",
    "\n",
    "def f_hat(x, a1, a2, b1, b2):\n",
    "    return a2 * f(a1*x + b1) + b2\n",
    "\n",
    "def fit_f(x, a1, b1, a2, b2):\n",
    "    y_hat = 0\n",
    "    for i in range(n_neuron):\n",
    "        y_hat += f_hat(x, a1[i], a2[i], b1[i], b2[i])\n",
    "    return y_hat\n",
    "\n",
    "theta = torch.tensor([\n",
    "        [3.4336722, -2.651572, 3.167959, 3.3171465, -0.7376518],\n",
    "        [-7.254289, -1.0960692, 1.1251626, -2.736918, -3.2360973],\n",
    "        [3.917879, 1.1994565, 2.494343, -3.8627312, 18.140102],\n",
    "        [-0.07787375, -0.24835609, -0.6120783, -0.2764072, -1.5676818],\n",
    "    ])\n",
    "\n",
    "x = dataset[:, 0]\n",
    "y = dataset[:, 1]\n",
    "y_hat = fit_f(x, theta[0], theta[1], theta[2], theta[3]).numpy()\n",
    "\n",
    "fig = plt.figure(figsize=(4, 4))\n",
    "ax = fig.add_subplot(111)\n",
    "_ = ax.scatter(x, y)\n",
    "_ = ax.plot(x, y_hat, color='red', linestyle='-')\n",
    "_ = ax.set_title(\"Fitting result\")\n",
    "_ = ax.set_xlabel(\"x\")\n",
    "_ = ax.set_ylabel(\"y\")\n",
    "_ = ax.grid()"
   ]
  },
  {
   "cell_type": "markdown",
   "id": "22f4eb46",
   "metadata": {},
   "source": [
    "かなり大雑把ですが, 単純な折れ線の組み合わせとしては悪くない近似になっています.\n",
    "続いて最終的な関数の形が, どのようにひとつひとつのニューロンによって作られているのかを見てみましょう.\n",
    "\n",
    "以下の例ではスライダーのn を大きくしてくと, 順にニューロンが足されていきます. オレンジ色のグラフが新しく追加されたニューロンのグラフ, 赤いグラフは追加されたニューロンの合計です.\n",
    "グラフの右に表示されているのが, その時点での関数の実際の数値表現です."
   ]
  },
  {
   "cell_type": "code",
   "execution_count": 87,
   "id": "7b4b28be",
   "metadata": {},
   "outputs": [
    {
     "data": {
      "application/vnd.jupyter.widget-view+json": {
       "model_id": "954a5067370045969188b63744c439f4",
       "version_major": 2,
       "version_minor": 0
      },
      "text/plain": [
       "interactive(children=(IntSlider(value=1, description='n', max=5, min=1), Output()), _dom_classes=('widget-inte…"
      ]
     },
     "metadata": {},
     "output_type": "display_data"
    }
   ],
   "source": [
    "import torch\n",
    "import matplotlib.pyplot as plt\n",
    "from ipywidgets import interact\n",
    "\n",
    "theta = torch.tensor([\n",
    "        [3.4336722, -2.651572, 3.167959, 3.3171465, -0.7376518],\n",
    "        [-7.254289, -1.0960692, 1.1251626, -2.736918, -3.2360973],\n",
    "        [3.917879, 1.1994565, 2.494343, -3.8627312, 18.140102],\n",
    "        [-0.07787375, -0.24835609, -0.6120783, -0.2764072, -1.5676818],\n",
    "    ])\n",
    "n_neuron = 5\n",
    "\n",
    "def sum_until_nth(x, n):\n",
    "    a1 = theta[0]\n",
    "    b1 = theta[1]\n",
    "    a2 = theta[2]\n",
    "    b2 = theta[3]\n",
    "    #\n",
    "    x = a1[:n, None] * x + b1[:n, None]\n",
    "    x = f(x)\n",
    "    x = a2[:n, None] * x + b2[:n, None]\n",
    "    x = x.sum(dim=0)\n",
    "    return x\n",
    "\n",
    "def plot(n=1):\n",
    "    x = dataset[:, 0]\n",
    "    y = dataset[:, 1]\n",
    "    fig = plt.figure(figsize=(8, 4))\n",
    "    ax = fig.add_subplot(121)\n",
    "    _ = ax.plot(x, sum_until_nth(x, n).detach().numpy(), color='red', linestyle='-')\n",
    "    for i in range(n):\n",
    "        y_hat = theta[0][i] * x + theta[1][i]\n",
    "        y_hat = f(y_hat)\n",
    "        y_hat = theta[2][i] * y_hat + theta[3][i]\n",
    "        c = 'tab:orange' if i == (n-1) else 'tab:blue'\n",
    "        a = 1.0 if i == (n-1) else 0.5\n",
    "        _ = ax.plot(x, y_hat, color=c, linestyle='-', alpha=a)\n",
    "    _ = ax.scatter(x, y)\n",
    "    _ = ax.set_xlabel('x')\n",
    "    _ = ax.set_ylabel('y')\n",
    "    _ = ax.set_ylim(-7, 22)\n",
    "    _ = ax.set_title(f'Combination of {n} neurons')\n",
    "    _ = ax.grid()\n",
    "\n",
    "    ax2 = fig.add_subplot(122)\n",
    "    expr_to_show = \"\"\n",
    "    for i in range(n):\n",
    "        if i == 0:\n",
    "            expr_to_show += r\"$y = \"\n",
    "        else:\n",
    "            expr_to_show += r\"     $\"\n",
    "        expr_to_show += fr\"{theta[2][i]:+.2f} \\times f~({theta[0][i]:.2f}x {theta[1][i]:+.2f}) {theta[3][i]:+.2f}$\"\n",
    "        expr_to_show += \"\\n\"\n",
    "    _ = ax2.text(\n",
    "        0.05, 0.8, expr_to_show,\n",
    "        horizontalalignment='left',\n",
    "        verticalalignment='top',\n",
    "        fontsize=11,\n",
    "        transform=ax2.transAxes,\n",
    "        wrap=True,\n",
    "    )\n",
    "    # turn off the axis\n",
    "    _ = ax2.axis('off')\n",
    "\n",
    "_ = interact(plot, n=(1, n_neuron, 1))"
   ]
  },
  {
   "cell_type": "markdown",
   "id": "c9825761",
   "metadata": {},
   "source": [
    "#### 1.3.1.4 関数の合成によるニューロンの貼り合わせ\n",
    "\n",
    "ニューロンを貼り合わせるもうひとつの方法は関数の合成です. ここでいう関数の合成というのは, いわゆる以下で表されるやつです.\n",
    "$$ (g \\circ f)(x) = g(f(x))$$\n",
    "\n",
    "足し算のときと同様に, まずは2つのニューロンを合成した際にどうなるかを具体的に見ていきましょう."
   ]
  },
  {
   "cell_type": "code",
   "execution_count": 94,
   "id": "1ba65328",
   "metadata": {},
   "outputs": [
    {
     "data": {
      "application/vnd.jupyter.widget-view+json": {
       "model_id": "48904a9c448e455693b06b7fd25c4fc6",
       "version_major": 2,
       "version_minor": 0
      },
      "text/plain": [
       "HBox(children=(VBox(children=(FloatSlider(value=1.0, description='a11', max=5.0, min=-5.0, readout_format='.1f…"
      ]
     },
     "metadata": {},
     "output_type": "display_data"
    },
    {
     "data": {
      "application/vnd.jupyter.widget-view+json": {
       "model_id": "740228a482ab4be88ffb7316485c2e76",
       "version_major": 2,
       "version_minor": 0
      },
      "text/plain": [
       "Output()"
      ]
     },
     "metadata": {},
     "output_type": "display_data"
    }
   ],
   "source": [
    "from ipywidgets import FloatSlider, VBox, HBox, interactive_output\n",
    "\n",
    "a11 = FloatSlider(value=1., min=-5.0, max=5.0, step=0.1, description=\"a11\", readout_format=\".1f\")\n",
    "a12 = FloatSlider(value=1., min=-5.0, max=5.0, step=0.1, description=\"a12\", readout_format=\".1f\")\n",
    "b11 = FloatSlider(value=0., min=-5.0, max=5.0, step=0.1, description=\"b11\", readout_format=\".1f\")\n",
    "b12 = FloatSlider(value=0., min=-5.0, max=5.0, step=0.1, description=\"b12\", readout_format=\".1f\")\n",
    "\n",
    "a21 = FloatSlider(value=-1., min=-5.0, max=5.0, step=0.1, description=\"a21\", readout_format=\".1f\")\n",
    "a22 = FloatSlider(value=1., min=-5.0, max=5.0, step=0.1, description=\"a22\", readout_format=\".1f\")\n",
    "b21 = FloatSlider(value=2.5, min=-5.0, max=5.0, step=0.1, description=\"b21\", readout_format=\".1f\")\n",
    "b22 = FloatSlider(value=0., min=-5.0, max=5.0, step=0.1, description=\"b22\", readout_format=\".1f\")\n",
    "\n",
    "f1 = VBox([a11, a12, b11, b12])\n",
    "f2 = VBox([a21, a22, b21, b22])\n",
    "ui = HBox([f1, f2])\n",
    "\n",
    "def f(x):\n",
    "    return torch.maximum(x, torch.tensor(0.0))\n",
    "\n",
    "def f_hat(x, a1, a2, b1, b2):\n",
    "    return a2 * f(a1*(x - b1)) + b2\n",
    "\n",
    "def plot(a11, a12, b11, b12,\n",
    "         a21, a22, b21, b22):\n",
    "    x = torch.linspace(-5, 5, 100)\n",
    "    y1 = f_hat(x, a11, a12, b11, b12)\n",
    "    y2 = f_hat(x, a21, a22, b21, b22)\n",
    "    #\n",
    "    ysum = f_hat(y1, a21, a22, b21, b22)\n",
    "    fig = plt.figure(figsize=(6.5, 6.5))\n",
    "    #\n",
    "    ax1 = fig.add_subplot(221)\n",
    "    _ = ax1.plot(x, y1, color='tab:blue', linestyle='-')\n",
    "    _ = ax1.set_ylim(-5, 5)\n",
    "    _ = ax1.set_xlabel('x')\n",
    "    _ = ax1.set_ylabel('y')\n",
    "    _ = ax1.set_title(f'First base function')\n",
    "    _ = ax1.grid()\n",
    "    #\n",
    "    ax2 = fig.add_subplot(222)\n",
    "    _ = ax2.plot(x, y2, color='tab:orange', linestyle='-')\n",
    "    _ = ax2.set_ylim(-5, 5)\n",
    "    _ = ax2.set_xlabel('x')\n",
    "    _ = ax2.set_ylabel('y')\n",
    "    _ = ax2.set_title(f'Second base function')\n",
    "    _ = ax2.grid()\n",
    "    #\n",
    "    ax3 = fig.add_subplot(223)\n",
    "    _ = ax3.plot(x, ysum, color='tab:green', linestyle='-')\n",
    "    _ = ax3.set_ylim(-5, 5)\n",
    "    _ = ax3.set_xlabel('x')\n",
    "    _ = ax3.set_ylabel('y')\n",
    "    _ = ax3.set_title(f'Sum of two base functions')\n",
    "    _ = ax3.grid()\n",
    "\n",
    "out = interactive_output(plot, {'a11': a11, 'a12': a12, 'b11': b11, 'b12': b12,\n",
    "                               'a21': a21, 'a22': a22, 'b21': b21, 'b22': b22})\n",
    "display(ui, out)"
   ]
  },
  {
   "cell_type": "markdown",
   "id": "3438570e",
   "metadata": {},
   "source": [
    "足し算の時とは違い, ある程度いじってもあまり直観的に分からないかもしれません.\n",
    "ここでは2つのニューロンのみを合成しましたが, 実際に関数の合成が効果的に機能するのは先ほどの足し算と併用したときです.\n",
    "\n",
    "試しに先ほどの5つのニューロンで作ったfitting 関数を2つ用意して合成したものでfitting した結果を見てみましょう."
   ]
  },
  {
   "cell_type": "markdown",
   "id": "af03ba0f",
   "metadata": {},
   "source": [
    "#### 1.3.1.5 関数の合成によるfitting\n",
    "\n",
    "データセットには先ほどと同じものを使い, 先ほど同様ここではfitting の結果だけを示します."
   ]
  },
  {
   "cell_type": "code",
   "execution_count": 149,
   "id": "cbbfdf8c",
   "metadata": {},
   "outputs": [
    {
     "name": "stdout",
     "output_type": "stream",
     "text": [
      "Epoch 0, Loss: 1.7538335621356964, LR: 4.50e-03\n"
     ]
    },
    {
     "name": "stdout",
     "output_type": "stream",
     "text": [
      "Epoch 1000, Loss: 1.181147813796997, LR: 4.05e-03\n",
      "Epoch 2000, Loss: 1.1097761988639832, LR: 3.65e-03\n",
      "Epoch 3000, Loss: 1.0953270196914673, LR: 3.28e-03\n",
      "Epoch 4000, Loss: 1.0857149362564087, LR: 2.95e-03\n",
      "Epoch 5000, Loss: 1.0692751109600067, LR: 2.66e-03\n",
      "Epoch 6000, Loss: 1.0847526788711548, LR: 2.39e-03\n",
      "Epoch 7000, Loss: 1.0924837589263916, LR: 2.15e-03\n",
      "Epoch 8000, Loss: 1.0800910592079163, LR: 1.94e-03\n",
      "Epoch 9000, Loss: 1.0784696340560913, LR: 1.74e-03\n",
      "a: array([[ 2.277565  ,  2.0818648 , -2.091385  ,  2.2894485 ],\n",
      "       [-1.6214972 , -2.006442  , -1.2724243 , -1.7373123 ],\n",
      "       [-2.251937  ,  2.5622828 ,  1.0566335 , -2.7065961 ],\n",
      "       [-2.7508798 , -3.0715334 , -0.07248084,  0.13563994],\n",
      "       [-0.9031626 ,  1.2331655 ,  0.76850045,  3.7941828 ]],\n",
      "      dtype=float32)\n",
      "b: array([[ -0.64992124,  -1.3103541 ,   3.0604284 , -11.124007  ],\n",
      "       [  1.7783631 ,  -1.3557833 ,  -8.274943  , -10.606683  ],\n",
      "       [  5.0640893 ,  -2.276254  , -11.374386  , -10.939752  ],\n",
      "       [  0.57186085,  -0.94168013,  -2.5660074 , -10.980584  ],\n",
      "       [  2.4720242 ,  -0.48419482,  11.169371  , -10.121333  ]],\n",
      "      dtype=float32)\n"
     ]
    },
    {
     "data": {
      "image/png": "[encoded data removed]",
      "text/plain": [
       "<Figure size 400x400 with 1 Axes>"
      ]
     },
     "metadata": {},
     "output_type": "display_data"
    }
   ],
   "source": [
    "import torch.optim as optim\n",
    "\n",
    "n_neuron = 5\n",
    "n_layer = 2\n",
    "\n",
    "theta = torch.tensor([\n",
    "        [3.4336722, -2.651572, 3.167959, 3.3171465, -0.7376518],\n",
    "        [-7.254289, -1.0960692, 1.1251626, -2.736918, -3.2360973],\n",
    "        [3.917879, 1.1994565, 2.494343, -3.8627312, 18.140102],\n",
    "        [-0.07787375, -0.24835609, -0.6120783, -0.2764072, -1.5676818],\n",
    "    ])\n",
    "'''\n",
    "a = torch.randn((n_neuron, n_layer*2), requires_grad=True)\n",
    "b = torch.randn((n_neuron, n_layer*2), requires_grad=True)\n",
    "# a1 = torch.randn(n_neuron, requires_grad=True)\n",
    "# b1 = torch.randn(n_neuron, requires_grad=True)\n",
    "# a2 = torch.randn(n_neuron, requires_grad=True)\n",
    "# b2 = torch.randn(n_neuron, requires_grad=True)\n",
    "#'''\n",
    "if False:\n",
    "    with torch.no_grad():\n",
    "        a[:, 0] = theta[0]\n",
    "        b[:, 0] = theta[1]\n",
    "        a[:, 1] = theta[2]\n",
    "        b[:, 1] = theta[3]\n",
    "        a[:, -1] = 1.0\n",
    "        b[:, -1] = 0.0\n",
    "\n",
    "def f(x):\n",
    "    return torch.maximum(x, torch.tensor(0.0))\n",
    "\n",
    "def f_hat(x, a1, a2, b1, b2):\n",
    "    return a2 * f(a1*x + b1) + b2\n",
    "\n",
    "def fit_f(x, a1, b1, a2, b2):\n",
    "    y_hat = 0\n",
    "    for i in range(n_neuron):\n",
    "        y_hat += f_hat(x, a1[i], a2[i], b1[i], b2[i])\n",
    "    return y_hat\n",
    "\n",
    "def combined(x):\n",
    "    for i in range(0, n_layer*2, 2):\n",
    "        x = a[:, i, None] * x + b[:, i, None]\n",
    "        x = f(x)\n",
    "        x = a[:, i+1, None] * x + b[:, i+1, None]\n",
    "        x = x.sum(dim=0)\n",
    "    return x\n",
    "\n",
    "loss_fn = torch.nn.MSELoss()\n",
    "optimizer = optim.Adam([a, b], lr=5e-3)\n",
    "scheduler = optim.lr_scheduler.ExponentialLR(optimizer, gamma=0.9)\n",
    "\n",
    "batch_size = 25\n",
    "for epoch in range(10_000):\n",
    "    idx = torch.randperm(x.shape[0])\n",
    "    x_sort = x[idx]\n",
    "    y_sort = y[idx]\n",
    "    losses = []\n",
    "    for i in range(0, x.shape[0], batch_size):\n",
    "        x_batch = x_sort[i:i+batch_size]\n",
    "        y_batch = y_sort[i:i+batch_size]\n",
    "        #\n",
    "        optimizer.zero_grad()\n",
    "        y_hat = combined(x_batch)\n",
    "        loss = loss_fn(y_hat, y_batch)\n",
    "        loss.backward()\n",
    "        optimizer.step()\n",
    "        losses.append(loss.item())\n",
    "    if epoch % 1000 == 0:\n",
    "        scheduler.step()\n",
    "        print(f\"Epoch {epoch}, Loss: {sum(losses)}, LR: {scheduler.get_last_lr()[0]:.2e}\")\n",
    "\n",
    "y_pred = combined(x)\n",
    "\n",
    "fig = plt.figure(figsize=(4, 4))\n",
    "ax = fig.add_subplot(111)\n",
    "_ = ax.scatter(x, y)\n",
    "_ = ax.plot(x, y_pred.detach().numpy(), color='red', linestyle='-')\n",
    "_ = ax.set_title(\"Fitting Result\")\n",
    "_ = ax.set_xlabel(\"x\")\n",
    "_ = ax.set_ylabel(\"y\")\n",
    "_ = ax.grid()\n",
    "\n",
    "print(f\"a: {repr(a.detach().numpy())}\")\n",
    "print(f\"b: {repr(b.detach().numpy())}\")"
   ]
  },
  {
   "cell_type": "code",
   "execution_count": null,
   "id": "846b2508",
   "metadata": {},
   "outputs": [],
   "source": [
    "a = np.array([[ 2.277565  ,  2.0818648 , -2.091385  ,  2.2894485 ],\n",
    "       [-1.6214972 , -2.006442  , -1.2724243 , -1.7373123 ],\n",
    "       [-2.251937  ,  2.5622828 ,  1.0566335 , -2.7065961 ],\n",
    "       [-2.7508798 , -3.0715334 , -0.07248084,  0.13563994],\n",
    "       [-0.9031626 ,  1.2331655 ,  0.76850045,  3.7941828 ]],\n",
    "      dtype=np.float32)\n",
    "b =  np.array([[ -0.64992124,  -1.3103541 ,   3.0604284 , -11.124007  ],\n",
    "       [  1.7783631 ,  -1.3557833 ,  -8.274943  , -10.606683  ],\n",
    "       [  5.0640893 ,  -2.276254  , -11.374386  , -10.939752  ],\n",
    "       [  0.57186085,  -0.94168013,  -2.5660074 , -10.980584  ],\n",
    "       [  2.4720242 ,  -0.48419482,  11.169371  , -10.121333  ]],\n",
    "      dtype=np.float32)"
   ]
  },
  {
   "cell_type": "code",
   "execution_count": 79,
   "id": "a1c68574",
   "metadata": {},
   "outputs": [
    {
     "data": {
      "application/vnd.jupyter.widget-view+json": {
       "model_id": "afdc652f612849279a6fddb7d4d43017",
       "version_major": 2,
       "version_minor": 0
      },
      "text/plain": [
       "interactive(children=(IntSlider(value=1, description='n', max=5, min=1), Output()), _dom_classes=('widget-inte…"
      ]
     },
     "metadata": {},
     "output_type": "display_data"
    }
   ],
   "source": [
    "theta = torch.stack([a1, b1, a2, b2], dim=0).detach()\n",
    "if False or True:\n",
    "    theta[2][1] = 1.2\n",
    "    theta[0][4] = -1.0\n",
    "    theta[1][4] = -4.0\n",
    "    theta[2][4] = 25.0\n",
    "\n",
    "def sum_until_nth(x, n):\n",
    "    a1 = theta[0]\n",
    "    b1 = theta[1]\n",
    "    a2 = theta[2]\n",
    "    b2 = theta[3]\n",
    "    #\n",
    "    x = a1[:n, None] * x + b1[:n, None]\n",
    "    x = f(x)\n",
    "    x = a2[:n, None] * x + b2[:n, None]\n",
    "    x = x.sum(dim=0)\n",
    "    return x\n",
    "\n",
    "def plot(n=1):\n",
    "    x = dataset[:, 0]\n",
    "    y = dataset[:, 1]\n",
    "    fig = plt.figure(figsize=(8, 4))\n",
    "    ax = fig.add_subplot(121)\n",
    "    _ = ax.plot(x, sum_until_nth(x, n).detach().numpy(), color='red', linestyle='-')\n",
    "    for i in range(n):\n",
    "        y_hat = theta[0][i] * x + theta[1][i]\n",
    "        y_hat = f(y_hat)\n",
    "        y_hat = theta[2][i] * y_hat + theta[3][i]\n",
    "        c = 'tab:orange' if i == (n-1) else 'gray'\n",
    "        a = 0.6 if i == (n-1) else 0.5\n",
    "        _ = ax.plot(x, y_hat, color=c, linestyle='-', alpha=a)\n",
    "    _ = ax.scatter(x, y)\n",
    "    _ = ax.set_xlabel('x')\n",
    "    _ = ax.set_ylabel('y')\n",
    "    _ = ax.set_ylim(-7, 22)\n",
    "    _ = ax.set_title(f'Combination of {n} neurons')\n",
    "    _ = ax.grid()\n",
    "\n",
    "    ax2 = fig.add_subplot(122)\n",
    "    expr_to_show = \"\"\n",
    "    for i in range(n):\n",
    "        if i == 0:\n",
    "            expr_to_show += r\"$y = \"\n",
    "        else:\n",
    "            expr_to_show += r\"     $\"\n",
    "        expr_to_show += fr\"{theta[2][i]:+.2f} \\times f~({theta[0][i]:.2f}x {theta[1][i]:+.2f}) {theta[3][i]:+.2f}$\"\n",
    "        expr_to_show += \"\\n\"\n",
    "    _ = ax2.text(\n",
    "        0.05, 0.8, expr_to_show,\n",
    "        horizontalalignment='left',\n",
    "        verticalalignment='top',\n",
    "        fontsize=11,\n",
    "        transform=ax2.transAxes,\n",
    "        wrap=True,\n",
    "    )\n",
    "    # turn off the axis\n",
    "    _ = ax2.axis('off')\n",
    "\n",
    "_ = interact(plot, n=(1, n_neuron, 1))"
   ]
  },
  {
   "cell_type": "code",
   "execution_count": null,
   "id": "bdce0c10",
   "metadata": {},
   "outputs": [],
   "source": []
  }
 ],
 "metadata": {
  "kernelspec": {
   "display_name": "venv",
   "language": "python",
   "name": "python3"
  },
  "language_info": {
   "codemirror_mode": {
    "name": "ipython",
    "version": 3
   },
   "file_extension": ".py",
   "mimetype": "text/x-python",
   "name": "python",
   "nbconvert_exporter": "python",
   "pygments_lexer": "ipython3",
   "version": "3.9.21"
  }
 },
 "nbformat": 4,
 "nbformat_minor": 5
}
