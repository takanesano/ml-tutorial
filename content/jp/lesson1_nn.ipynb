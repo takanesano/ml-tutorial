{
 "cells": [
  {
   "cell_type": "markdown",
   "id": "8e1bb341",
   "metadata": {},
   "source": [
    "# 1. Neural Network とは"
   ]
  },
  {
   "cell_type": "markdown",
   "id": "da962084",
   "metadata": {},
   "source": [
    "## 1.1. はじめに\n",
    "\n",
    "ChatGPT や画像生成などカジュアルにはAI とも呼ばれるこれらは,正式には**機械学習**(Machine Learning, ML)と呼ばれる技術です.\n",
    "機械学習と聞くと比較的最近耳にするようになった印象もあるかもしれませんが, 実際には結構古い技術です.\n",
    "実はみなさんも大学生の時分に触れていて, **fitting**という呼び方で馴染みがあるんじゃないでしょうか.\n",
    "\n",
    "近年ではありとあらゆるところに機械学習が使われ,技術としても多種多様に見えますが, 根幹の技術は全てただのfittingです.\n",
    "機械学習の話はイメージしにくいのが難点ですが, 単純なfittingで置き換えて考えるとかなり理解しやすくなります.\n",
    "どんな機械学習の話もfittingとして実感できるようにする, というのがこのチュートリアルの目標です."
   ]
  },
  {
   "cell_type": "markdown",
   "id": "d58fe926",
   "metadata": {},
   "source": [
    "## 1.2. Fitting の概観\n",
    "\n",
    "Fitting の詳細な技術はここでは無視して, 用語の定義と大まかな流れを確認します."
   ]
  },
  {
   "cell_type": "markdown",
   "id": "4e0e7802",
   "metadata": {},
   "source": [
    "### 1.2.1 Fitting の目的\n",
    "\n",
    "入力の集合$X$ から出力の集合$Y$ への写像を解析的な形で得ることが目的です.\n",
    "ここで「解析的」という表現は「数式で表現できて,やろうと思えば局所的に微積分が可能」という意味で雑に使っています.\n",
    "解析的な写像と解析的ではない写像の例を挙げます.\n",
    "\n",
    "> **_NOTE_** <details close><summary>解析的な写像と解析的ではない写像の例</summary>\n",
    "> \n",
    "> - 解析的な写像\n",
    ">   - いわゆる普通の関数たち\n",
    ">     - $f(x) = x^2 + 3x + 1$\n",
    ">     - $g(x) = \\sin(x)$\n",
    ">     - $h(x) = (f \\circ g)(x)$\n",
    "> - 解析的でない写像\n",
    ">     - 逐次計算で出るようなやつやら,手順踏めば解析的な形で究極的には出せそうだけどアルゴリズムの内部が見えないせいでわからない(シミュレーションとか)\n",
    ">     - sort やらはそうだけど,混乱を避けるためにもなるべくフェアに連続写像で例示したい\n",
    "> \n",
    "> </details>"
   ]
  },
  {
   "cell_type": "markdown",
   "id": "0b8403b2",
   "metadata": {},
   "source": [
    "### 1.2.3 Fitting の流れ\n",
    "\n",
    "目的関数がおおよそ一次関数の場合を例に、一般的なfitting の流れをおさらいします。\n",
    "\n",
    "0. Given: $D = \\{(x_0, y_0), (x_1, y_1), \\dots, (x_n, y_n)\\}$\n",
    "\n",
    "> <details close><summary>Table</summary>\n",
    "> \n",
    "> |  i |          x |          y |\n",
    "> |---:|-----------:|-----------:|\n",
    "> |  0 | -1         | -3.46875   |\n",
    "> |  1 | -0.894737  | -3.3587    |\n",
    "> |  2 | -0.789474  | -3.18168   |\n",
    "> |  3 | -0.684211  | -2.80816   |\n",
    "> |  4 | -0.578947  | -2.57535   |\n",
    "> |  5 | -0.473684  | -2.59838   |\n",
    "> |  6 | -0.368421  | -2.034     |\n",
    "> |  7 | -0.263158  | -2.12891   |\n",
    "> |  8 | -0.157895  | -1.76289   |\n",
    "> |  9 | -0.0526316 | -1.55701   |\n",
    "> | 10 |  0.0526316 | -1.30737   |\n",
    "> | 11 |  0.157895  | -1.14899   |\n",
    "> | 12 |  0.263158  | -0.999317  |\n",
    "> | 13 |  0.368421  | -0.695888  |\n",
    "> | 14 |  0.473684  | -0.606254  |\n",
    "> | 15 |  0.578947  | -0.402179  |\n",
    "> | 16 |  0.684211  | -0.0366087 |\n",
    "> | 17 |  0.789474  |  0.0456709 |\n",
    "> | 18 |  0.894737  |  0.303446  |\n",
    "> | 19 |  1         |  0.531963  |\n",
    "> \n",
    "> </details>\n",
    "> \n",
    "> <details close><summary>Plot</summary>\n",
    "> \n",
    "> ![dataset](../assets/1_nn/fig/lin_dataset.png)\n",
    "> \n",
    "> </details>\n",
    "\n",
    "1. Fitting 関数の選定\n",
    "\n",
    "   データセットを元に目的関数の形を考慮してfitting 関数を選びます.\n",
    "   今回の場合はデータセットの分布がおおよそ線形なので, 目的関数が一次関数であると仮定して一次関数をfitting 関数としてfitting します.\n",
    "   $$ \\hat{f}(x \\mid \\theta) = \\theta_1 x + \\theta_2 $$\n",
    "\n",
    "2. Fitting 関数のパラメータの最適化\n",
    "\n",
    "   ここがfitting の肝ですが, 具体的にどうやって最適なパラメータを算出するかは今は考えないでおきましょう.\n",
    "   ここでは手動でなんとなく良いものを選びます."
   ]
  },
  {
   "cell_type": "code",
   "execution_count": 1,
   "id": "3d1ee7d2",
   "metadata": {},
   "outputs": [
    {
     "data": {
      "application/vnd.jupyter.widget-view+json": {
       "model_id": "4f64c821f41541949b924b1c0cb9476c",
       "version_major": 2,
       "version_minor": 0
      },
      "text/plain": [
       "interactive(children=(FloatSlider(value=1.0, description='theta1', max=5.0, min=-5.0), FloatSlider(value=-2.0,…"
      ]
     },
     "metadata": {},
     "output_type": "display_data"
    }
   ],
   "source": [
    "import numpy as np\n",
    "import matplotlib.pyplot as plt\n",
    "from ipywidgets import interact\n",
    "\n",
    "dataset = np.array([\n",
    "    [-1.0, -3.46875059],\n",
    "    [-0.89473684, -3.35870235],\n",
    "    [-0.78947368, -3.18168343],\n",
    "    [-0.68421053, -2.80815538],\n",
    "    [-0.57894737, -2.57535459],\n",
    "    [-0.47368421, -2.5983788],\n",
    "    [-0.36842105, -2.03399938],\n",
    "    [-0.26315789, -2.12890873],\n",
    "    [-0.15789474, -1.76288595],\n",
    "    [-0.05263158, -1.55701026],\n",
    "    [0.05263158, -1.30737102],\n",
    "    [0.15789474, -1.14899177],\n",
    "    [0.26315789, -0.99931722],\n",
    "    [0.36842105, -0.69588818],\n",
    "    [0.47368421, -0.60625409],\n",
    "    [0.57894737, -0.40217878],\n",
    "    [0.68421053, -0.03660866],\n",
    "    [0.78947368, 0.04567089],\n",
    "    [0.89473684, 0.30344603],\n",
    "    [1.0, 0.53196308],\n",
    "])\n",
    "x = dataset[:, 0]\n",
    "y = dataset[:, 1]\n",
    "\n",
    "def f(x, theta1, theta2):\n",
    "    return theta1 * x + theta2\n",
    "def plot(theta1=1., theta2=-2.):\n",
    "    _ = plt.scatter(x, y)\n",
    "    _ = plt.plot(x, f(x, theta1, theta2), color='red', linestyle='-')\n",
    "    _ = plt.xlim(-1.1, 1.1)\n",
    "    _ = plt.ylim(-4, 1)\n",
    "    _ = plt.xlabel('x')\n",
    "    _ = plt.ylabel('y')\n",
    "    _ = plt.title(f'Linear fitting function: θ1={theta1:.2f}, θ2={theta2:.2f}')\n",
    "    _ = plt.grid()\n",
    "    _ = plt.show()\n",
    "\n",
    "_ = interact(plot, theta1=(-5.0, 5.0, 0.1), theta2=(-5.0, 5.0, 0.1))"
   ]
  },
  {
   "cell_type": "markdown",
   "id": "862ef12d",
   "metadata": {},
   "source": [
    "## 1.3. Neural Network\n",
    "\n",
    "2015年以降の機械学習のほぼ全てに登場するのが**Neural Network** (NN)です。"
   ]
  },
  {
   "cell_type": "markdown",
   "id": "b3b39acc",
   "metadata": {},
   "source": []
  }
 ],
 "metadata": {
  "kernelspec": {
   "display_name": "venv",
   "language": "python",
   "name": "python3"
  },
  "language_info": {
   "codemirror_mode": {
    "name": "ipython",
    "version": 3
   },
   "file_extension": ".py",
   "mimetype": "text/x-python",
   "name": "python",
   "nbconvert_exporter": "python",
   "pygments_lexer": "ipython3",
   "version": "3.9.21"
  }
 },
 "nbformat": 4,
 "nbformat_minor": 5
}
